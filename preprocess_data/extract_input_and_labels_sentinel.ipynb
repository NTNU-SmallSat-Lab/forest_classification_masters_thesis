{
 "cells": [
  {
   "cell_type": "markdown",
   "metadata": {},
   "source": [
    "# Import libraries"
   ]
  },
  {
   "cell_type": "code",
   "execution_count": null,
   "metadata": {},
   "outputs": [],
   "source": [
    "import rasterio\n",
    "import numpy as np\n",
    "import matplotlib.pyplot as plt\n",
    "from rasterio.warp import reproject, Resampling\n",
    "from matplotlib.colors import ListedColormap, BoundaryNorm\n",
    "import matplotlib.cm as cm\n",
    "from sklearn.model_selection import train_test_split"
   ]
  },
  {
   "cell_type": "markdown",
   "metadata": {},
   "source": [
    "# Define constants"
   ]
  },
  {
   "cell_type": "code",
   "execution_count": null,
   "metadata": {},
   "outputs": [],
   "source": [
    "# Path to the Sentinel multi-band file and label file\n",
    "sentinel_file = \"C:/Users/elise/Master/sentinel_reprojected.tif\"\n",
    "label_file = \"C:/Users/elise/Master/sr16+background_cut.tif\"\n",
    "\n",
    "scaling_factor = 1/10000"
   ]
  },
  {
   "cell_type": "markdown",
   "metadata": {},
   "source": [
    "# Define functions"
   ]
  },
  {
   "cell_type": "code",
   "execution_count": null,
   "metadata": {},
   "outputs": [],
   "source": [
    "# Function to read Sentinel bands\n",
    "def read_sentinel_bands(sentinel_file):\n",
    "    with rasterio.open(sentinel_file) as src:\n",
    "        bands = src.read()  # Read all bands into a 3D array (bands, height, width)\n",
    "        bands = bands * scaling_factor  # Scale the bands for reflectance values\n",
    "        transform = src.transform  # Get the transform of the Sentinel image\n",
    "    return bands, transform\n",
    "\n",
    "# Function to reproject and resample labels to match Sentinel dimensions\n",
    "def align_labels_to_sentinel(label_file, sentinel_transform, sentinel_crs, sentinel_shape):\n",
    "    with rasterio.open(label_file) as src_labels:\n",
    "        label_data = np.empty(sentinel_shape, dtype=src_labels.meta['dtype'])\n",
    "\n",
    "        reproject(\n",
    "            source=rasterio.band(src_labels, 1),\n",
    "            destination=label_data,\n",
    "            src_transform=src_labels.transform,\n",
    "            src_crs=src_labels.crs,\n",
    "            dst_transform=sentinel_transform,\n",
    "            dst_crs=sentinel_crs,\n",
    "            dst_width=sentinel_shape[1],\n",
    "            dst_height=sentinel_shape[0],\n",
    "            resampling=Resampling.nearest # Resolution: Sentinel 10 m, SR16 16 m --> upsampling\n",
    "        )\n",
    "    return label_data"
   ]
  },
  {
   "cell_type": "markdown",
   "metadata": {},
   "source": [
    "# Read bands"
   ]
  },
  {
   "cell_type": "code",
   "execution_count": null,
   "metadata": {},
   "outputs": [],
   "source": [
    "# Read the Sentinel bands and their transform\n",
    "sentinel_bands, sentinel_transform = read_sentinel_bands(sentinel_file)\n",
    "print(f\"Sentinel bands shape: {sentinel_bands.shape}\")"
   ]
  },
  {
   "cell_type": "code",
   "execution_count": null,
   "metadata": {},
   "outputs": [],
   "source": [
    "print(f\"Min = {sentinel_bands.min()}, Max = {sentinel_bands.max()}\")\n",
    "# Normalize the bands to [0, 1] range for reflectance\n",
    "sentinel_bands = (sentinel_bands - sentinel_bands.min()) / (sentinel_bands.max() - sentinel_bands.min())\n",
    "print(f\"Min = {sentinel_bands.min()}, Max = {sentinel_bands.max()}\")"
   ]
  },
  {
   "cell_type": "markdown",
   "metadata": {},
   "source": [
    "# Plot bands"
   ]
  },
  {
   "cell_type": "code",
   "execution_count": null,
   "metadata": {},
   "outputs": [],
   "source": [
    "import matplotlib.pyplot as plt\n",
    "import numpy as np\n",
    "\n",
    "features = [\n",
    "    \"B02_winter_min_nomask\", \"B02_spring_min_nomask\", \"B02_autumn_min_nomask\",\n",
    "    \"B03_winter_min_nomask\", \"B04_winter_min_nomask\", \"B04_spring_min_nomask\",\n",
    "    \"B05_winter_min_nomask\", \"B06_winter_min_nomask\", \"B06_summer_median_mask\",\n",
    "    \"B07_summer_median_nomask\", \"B07_summer_median_mask\", \"B08_summer_median_nomask\",\n",
    "    \"B08_summer_median_mask\", \"B11_winter_min_nomask\", \"B12_winter_min_nomask\",\n",
    "    \"B8A_summer_median_nomask\", \"B8A_summer_median_mask\", \"evi_winter_max_nomask\",\n",
    "    \"ndvi_winter_max_nomask\", \"savi_winter_max_nomask\"\n",
    "]\n",
    "\n",
    "# Function to generate a more descriptive name\n",
    "def generate_descriptive_name(feature):\n",
    "    parts = feature.split(\"_\")\n",
    "    band = parts[0]  # e.g., \"B02\"\n",
    "    season = parts[1]  # e.g., \"winter\"\n",
    "    stat = parts[2]  # e.g., \"min\"\n",
    "    mask = parts[3] if len(parts) > 3 else \"nomask\"  # e.g., \"nomask\"\n",
    "    return f\"{band} ({season.capitalize()} {stat.capitalize()} {'Masked' if mask == 'mask' else 'Unmasked'})\"\n",
    "\n",
    "# Generate descriptive names\n",
    "descriptive_names = [generate_descriptive_name(f) for f in features]\n",
    "\n",
    "# Define the number of bands\n",
    "num_bands = sentinel_bands.shape[0]\n",
    "\n",
    "# Create a figure with subplots (adjust rows & cols based on num_bands)\n",
    "rows = int(np.ceil(num_bands / 4))  # Adjust for 4 columns per row\n",
    "cols = min(num_bands, 4)\n",
    "\n",
    "fig, axes = plt.subplots(rows, cols, figsize=(15, 3 * rows))\n",
    "\n",
    "# Flatten axes array for easy iteration\n",
    "axes = axes.flatten()\n",
    "\n",
    "for i in range(num_bands):\n",
    "    ax = axes[i]\n",
    "    band_data = sentinel_bands[i, :, :]\n",
    "\n",
    "    # Mask zero values (e.g. no-data areas)\n",
    "    masked_data = band_data[band_data > 0]\n",
    "\n",
    "    if masked_data.size > 0:\n",
    "        # Use percentile stretching only on valid data\n",
    "        vmin, vmax = np.percentile(masked_data, [2, 98])\n",
    "    else:\n",
    "        vmin, vmax = 0, 1  # fallback if all values are zero\n",
    "\n",
    "    # Plot original data with adjusted limits\n",
    "    ax.imshow(band_data, cmap='gray', vmin=vmin, vmax=vmax, aspect='auto')\n",
    "    ax.set_title(f\"Band {i+1}: {descriptive_names[i]}\")\n",
    "    ax.axis(\"off\")\n",
    "\n",
    "\n",
    "# Hide unused subplots if bands < total subplots\n",
    "for j in range(i + 1, len(axes)):\n",
    "    fig.delaxes(axes[j])\n",
    "\n",
    "plt.tight_layout()\n",
    "plt.show()\n"
   ]
  },
  {
   "cell_type": "code",
   "execution_count": null,
   "metadata": {},
   "outputs": [],
   "source": [
    "import numpy as np\n",
    "import matplotlib.pyplot as plt\n",
    "\n",
    "red_band = sentinel_bands[5, :, :]   # B4\n",
    "green_band = sentinel_bands[3, :, :] # B3\n",
    "blue_band = sentinel_bands[1, :, :]  # B2\n",
    "\n",
    "# Stack bands to form an RGB image\n",
    "rgb_image = np.stack([red_band, green_band, blue_band], axis=-1)\n",
    "\n",
    "# Normalize to 0-1 range for display\n",
    "rgb_image = (rgb_image - np.min(rgb_image)) / (np.max(rgb_image) - np.min(rgb_image))\n",
    "\n",
    "# Plot RGB image\n",
    "plt.figure(figsize=(10, 10))\n",
    "plt.imshow(rgb_image)\n",
    "plt.title(\"Sentinel-2 RGB Composite (Bands 4-3-2)\")\n",
    "plt.axis(\"off\")\n",
    "plt.show()\n"
   ]
  },
  {
   "cell_type": "markdown",
   "metadata": {},
   "source": [
    "# Read labels"
   ]
  },
  {
   "cell_type": "code",
   "execution_count": null,
   "metadata": {},
   "outputs": [],
   "source": [
    "# Read and align the labels to the Sentinel image\n",
    "sentinel_crs = rasterio.open(sentinel_file).crs\n",
    "aligned_labels = align_labels_to_sentinel(\n",
    "    label_file, sentinel_transform, sentinel_crs, sentinel_bands.shape[1:]\n",
    ")\n",
    "print(f\"Aligned labels shape: {aligned_labels.shape}\")"
   ]
  },
  {
   "cell_type": "code",
   "execution_count": null,
   "metadata": {},
   "outputs": [],
   "source": [
    "with rasterio.open(label_file) as src_labels:\n",
    "    print(src_labels.nodata)  # This will show if -9999 is set as NoData"
   ]
  },
  {
   "cell_type": "markdown",
   "metadata": {},
   "source": [
    "# Compare aligned labels and original labels"
   ]
  },
  {
   "cell_type": "code",
   "execution_count": null,
   "metadata": {},
   "outputs": [],
   "source": [
    "# Visualize the aligned labels and the original label image with unique value mapping\n",
    "with rasterio.open(label_file) as src_labels:\n",
    "    original_labels = src_labels.read(1)\n",
    "\n",
    "# Get unique labels\n",
    "unique_labels = np.unique(aligned_labels)\n",
    "print(f\"Unique labels: {unique_labels}\")\n",
    "\n",
    "# Create a custom colormap\n",
    "# Use gray for -9999 and viridis for 0, 1, 2, 3\n",
    "viridis_colors = cm.viridis([0.2, 0.4, 0.6, 0.8])  # Choose evenly spaced colors from viridis\n",
    "colors = [\"gray\"] + list(viridis_colors)\n",
    "cmap = ListedColormap(colors)\n",
    "\n",
    "# Create normalization to map unique labels to colors\n",
    "norm = BoundaryNorm(boundaries=[-9999.5, -0.5, 0.5, 1.5, 2.5, 3.5], ncolors=5)\n",
    "\n",
    "\n",
    "# Plot and save the original labels\n",
    "plt.figure(figsize=(8, 6))\n",
    "plt.title(\"Original Labels\")\n",
    "im1 = plt.imshow(original_labels, cmap=cmap, norm=norm, interpolation=\"nearest\")\n",
    "cbar1 = plt.colorbar(im1, ticks=unique_labels)\n",
    "cbar1.set_label(\"Label Value\")\n",
    "plt.savefig(\"original_labels.png\")\n",
    "plt.show()\n",
    "plt.close()\n",
    "\n",
    "# Plot and save the aligned labels\n",
    "plt.figure(figsize=(8, 6))\n",
    "plt.title(\"Aligned Labels\")\n",
    "im2 = plt.imshow(aligned_labels, cmap=cmap, norm=norm, interpolation=\"nearest\")\n",
    "cbar2 = plt.colorbar(im2, ticks=unique_labels)\n",
    "cbar2.set_label(\"Label Value\")\n",
    "plt.savefig(\"aligned_labels.png\")\n",
    "plt.show()\n",
    "plt.close()\n",
    "\n",
    "print(\"Images saved as 'original_labels.png' and 'aligned_labels.png' in the current working folder.\")\n",
    "\n",
    "# Function to print label information and count of each label\n",
    "def print_label_info(label_array, label_name):\n",
    "    print(f\"--- {label_name} ---\")\n",
    "    print(f\"Shape: {label_array.shape}\")\n",
    "    print(f\"Data Type: {label_array.dtype}\")\n",
    "    print(f\"Min Value: {np.min(label_array)}\")\n",
    "    print(f\"Max Value: {np.max(label_array)}\")\n",
    "    unique, counts = np.unique(label_array, return_counts=True)\n",
    "    print(f\"Unique Values: {unique}\")\n",
    "    print(f\"Counts: {dict(zip(unique, counts))}\")\n",
    "    print(f\"Percentage of each label: {dict(zip(unique, counts/np.sum(counts)))}\")\n",
    "    print()\n",
    "\n",
    "# Print information for original labels\n",
    "print_label_info(original_labels, \"Original Labels\")\n",
    "\n",
    "# Print information for aligned labels\n",
    "print_label_info(aligned_labels, \"Aligned Labels\")\n",
    "\n",
    "\n"
   ]
  },
  {
   "cell_type": "markdown",
   "metadata": {},
   "source": [
    "# Save data"
   ]
  },
  {
   "cell_type": "code",
   "execution_count": null,
   "metadata": {},
   "outputs": [],
   "source": [
    "# Flatten and prepare for machine learning\n",
    "input = sentinel_bands.reshape(sentinel_bands.shape[0], -1).T  # Shape: (n_samples, n_features)\n",
    "labels = aligned_labels.flatten()  # Shape: (n_samples,)\n",
    "\n",
    "print(f\"Prepared input shape: {input.shape}, labels shape: {labels.shape}\")"
   ]
  },
  {
   "cell_type": "code",
   "execution_count": null,
   "metadata": {},
   "outputs": [],
   "source": [
    "# Step 1: Remove -9999 labels and corresponding inputs\n",
    "valid_mask = labels != -9999  # Mask for valid pixels\n",
    "valid_mask = valid_mask & (labels != 0)  # Mask for valid labels (0 is ignored)\n",
    "X_valid = input[valid_mask]\n",
    "y_valid = labels[valid_mask]\n",
    "\n",
    "# Step 2: Stratified split into training, validation, and test sets\n",
    "X_train, X_test, y_train, y_test, train_indices, test_indices = train_test_split(\n",
    "    X_valid, y_valid, np.arange(len(y_valid)), test_size=0.2, random_state=42, stratify=y_valid\n",
    ")\n",
    "\n",
    "# Step 3: Create masks for training, validation, and test sets\n",
    "train_mask = np.zeros_like(labels, dtype=bool)\n",
    "test_mask = np.zeros_like(labels, dtype=bool)\n",
    "ignored_mask = labels == -9999  # Mask for ignored pixels\n",
    "\n",
    "# Map valid indices back to the original label space\n",
    "train_mask[valid_mask] = np.isin(np.arange(len(X_valid)), train_indices)\n",
    "test_mask[valid_mask] = np.isin(np.arange(len(X_valid)), test_indices)\n",
    "\n",
    "# Step 4: Create a single mask image to visualize all categories\n",
    "# Assign integer values for each category\n",
    "mask_image = np.zeros_like(labels, dtype=np.int32)\n",
    "mask_image[ignored_mask] = 0  # -9999\n",
    "mask_image[train_mask] = 1    # Training \n",
    "mask_image[test_mask] = 2     # Testing\n",
    "\n",
    "# Reshape the mask image to the original image dimensions\n",
    "mask_image = mask_image.reshape(2221, 2260)\n",
    "\n",
    "# Save training, validation, and test datasets\n",
    "np.save('train_sentinel_input.npy', X_train)\n",
    "np.save('train_sentinel_labels.npy', y_train)\n",
    "np.save('test_sentinel_input.npy', X_test)\n",
    "np.save('test_sentinel_labels.npy', y_test)\n",
    "np.save('mask_image.npy', mask_image)\n"
   ]
  },
  {
   "cell_type": "code",
   "execution_count": null,
   "metadata": {},
   "outputs": [],
   "source": [
    "# Check if stratification is correct\n",
    "unique_labels = np.unique(y_valid, return_counts=False)\n",
    "train_counts = np.unique(y_train, return_counts=True)[1]\n",
    "test_counts = np.unique(y_test, return_counts=True)[1]\n",
    "\n",
    "print(\"Training set label distribution:\", dict(zip(unique_labels, train_counts)))\n",
    "print(\"Testing set label distribution:\", dict(zip(unique_labels, test_counts)))\n",
    "\n",
    "# Verify proportions\n",
    "print(\"\\nProportion in training set:\")\n",
    "print(train_counts / sum(train_counts))\n",
    "print(\"\\nProportion in testing set:\")\n",
    "print(test_counts / sum(test_counts))\n",
    "print()\n",
    "\n",
    "# Overview of masks\n",
    "print(f\"Total samples: {train_mask.sum()}, proportion of total: {train_mask.sum() / len(y_valid)}\")\n",
    "print(f\"Total samples: {test_mask.sum()}, proportion of total: {test_mask.sum() / len(y_valid)}\")"
   ]
  },
  {
   "cell_type": "code",
   "execution_count": null,
   "metadata": {},
   "outputs": [],
   "source": [
    "# Create a custom colormap\n",
    "# Use gray for -9999 and viridis for 0, 1, 2, 3\n",
    "viridis_colors = cm.viridis([0.3, 0.6])  # Choose evenly spaced colors from viridis\n",
    "colors = [\"gray\"] + list(viridis_colors)\n",
    "cmap = ListedColormap(colors)\n",
    "\n",
    "# Step 5: Plot the mask image\n",
    "plt.figure(figsize=(8, 8))\n",
    "plt.title(\"Dataset Splits\")\n",
    "plt.imshow(mask_image, cmap=cmap, interpolation=\"nearest\")\n",
    "cbar = plt.colorbar()\n",
    "cbar.set_ticks([0, 1, 2])\n",
    "cbar.set_ticklabels([\"Ignored (-9999)\", \"Training\", \"Testing\"])\n",
    "plt.axis(\"off\")\n",
    "plt.tight_layout()\n",
    "plt.savefig(\"dataset_splits.png\")\n",
    "plt.show()\n"
   ]
  }
 ],
 "metadata": {
  "kernelspec": {
   "display_name": "Python 3",
   "language": "python",
   "name": "python3"
  },
  "language_info": {
   "codemirror_mode": {
    "name": "ipython",
    "version": 3
   },
   "file_extension": ".py",
   "mimetype": "text/x-python",
   "name": "python",
   "nbconvert_exporter": "python",
   "pygments_lexer": "ipython3",
   "version": "3.12.5"
  }
 },
 "nbformat": 4,
 "nbformat_minor": 2
}
